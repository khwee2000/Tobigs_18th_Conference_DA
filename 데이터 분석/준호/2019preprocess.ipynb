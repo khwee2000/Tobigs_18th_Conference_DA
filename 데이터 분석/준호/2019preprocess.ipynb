{
 "cells": [
  {
   "cell_type": "code",
   "execution_count": 2,
   "metadata": {},
   "outputs": [],
   "source": [
    "import pandas as pd\n",
    "data=pd.read_csv('seoul_moving_data/2019/LOCAL_PEOPLE_GU_2019'+'.csv',encoding='cp949')"
   ]
  },
  {
   "cell_type": "code",
   "execution_count": 5,
   "metadata": {},
   "outputs": [],
   "source": [
    "data\n",
    "data.reset_index(drop=False,inplace=True)\n",
    "x=data.columns[1:]\n",
    "x=x.tolist()\n",
    "x.append(\"temp\")\n",
    "data.columns=x\n",
    "data.drop('temp',axis=1,inplace=True)"
   ]
  },
  {
   "cell_type": "code",
   "execution_count": null,
   "metadata": {},
   "outputs": [],
   "source": [
    "code_area=data['자치구코드'].unique()\n",
    "\n",
    "data_for_codes=[]\n",
    "for code in code_area:\n",
    "    data_for_codes.append(data[data['자치구코드']==code])"
   ]
  }
 ],
 "metadata": {
  "kernelspec": {
   "display_name": ".venv",
   "language": "python",
   "name": "python3"
  },
  "language_info": {
   "codemirror_mode": {
    "name": "ipython",
    "version": 3
   },
   "file_extension": ".py",
   "mimetype": "text/x-python",
   "name": "python",
   "nbconvert_exporter": "python",
   "pygments_lexer": "ipython3",
   "version": "3.10.12"
  }
 },
 "nbformat": 4,
 "nbformat_minor": 2
}
