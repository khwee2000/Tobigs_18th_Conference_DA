{
 "cells": [
  {
   "cell_type": "code",
   "execution_count": null,
   "metadata": {},
   "outputs": [],
   "source": [
    "import pandas as pd\n",
    "data=pd.read_csv('seoul_moving_data/2021/LOCAL_PEOPLE_GU_2021'+'.csv',encoding='cp949')\n",
    "\n",
    "data\n",
    "data.reset_index(drop=False,inplace=True)\n",
    "x=data.columns[1:]\n",
    "x=x.tolist()\n",
    "x.append(\"temp\")\n",
    "data.columns=x\n",
    "data.drop('temp',axis=1,inplace=True)\n"
   ]
  },
  {
   "cell_type": "code",
   "execution_count": null,
   "metadata": {},
   "outputs": [],
   "source": [
    "code_area=data['자치구코드'].unique()\n",
    "\n",
    "data_for_codes=[]\n",
    "for code in code_area:\n",
    "    data_for_codes.append(data[data['자치구코드']==code])"
   ]
  }
 ],
 "metadata": {
  "language_info": {
   "name": "python"
  }
 },
 "nbformat": 4,
 "nbformat_minor": 2
}
