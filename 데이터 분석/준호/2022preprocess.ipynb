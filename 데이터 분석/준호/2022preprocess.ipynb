{
 "cells": [
  {
   "cell_type": "code",
   "execution_count": null,
   "metadata": {},
   "outputs": [],
   "source": [
    "import pandas as pd\n",
    "data=pd.read_csv('seoul_moving_data/2022/LOCAL_PEOPLE_GU_2022'+'.csv',encoding='cp949')\n",
    "\n",
    "data"
   ]
  },
  {
   "cell_type": "code",
   "execution_count": null,
   "metadata": {},
   "outputs": [],
   "source": [
    "code_area=data['자치구코드'].unique()\n",
    "\n",
    "data_for_codes=[]\n",
    "for code in code_area:\n",
    "    data_for_codes.append(data[data['자치구코드']==code])\n",
    "data_for_codes[0]"
   ]
  }
 ],
 "metadata": {
  "language_info": {
   "name": "python"
  }
 },
 "nbformat": 4,
 "nbformat_minor": 2
}
